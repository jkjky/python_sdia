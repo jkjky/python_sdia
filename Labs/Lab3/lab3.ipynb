{
 "cells": [
  {
   "cell_type": "markdown",
   "metadata": {},
   "source": [
    "# Practical session 3 - Brownian motion, Fourier transform\n",
    "\n",
    "Students (pair):\n",
    "- [Student 1]([link](https://github.com/username1))\n",
    "- [Student 2]([link](https://github.com/username2))"
   ]
  },
  {
   "cell_type": "markdown",
   "metadata": {},
   "source": []
  },
  {
   "cell_type": "code",
   "execution_count": 1,
   "metadata": {},
   "outputs": [],
   "source": [
    "%load_ext autoreload\n",
    "%autoreload 2"
   ]
  },
  {
   "cell_type": "markdown",
   "metadata": {},
   "source": [
    "## <a name=\"ex1\">Exercise 1: Brownian motion</a>\n",
    "\n",
    "This first exercise consists in generating a Brownian motion on the closed unit ball $\\mathcal{B}(\\mathbf{0}, 1) = \\{ \\mathbf{x} \\mid \\Vert \\mathbf{x} \\Vert  \\leq 1\\}$, focusing first on the 2-D case. The Brownian motion is a random walk with independent, identically distributed Gaussian increments, appearing for instance in thermodynamics and statistical mechanics (to model the evolution of a large particle in a medium composed of a large number of small particles, ...). It is also connected to the diffusion process (Einstein).\n",
    "\n",
    "Let $N \\in \\mathbb{N}^*$, $\\delta > 0$, and $\\mathbf{x} = (x_1, x_2) \\in  \\mathcal{B}(\\mathbf{0}, 1)$. The first $N$ steps of a 2-D discrete-time Brownian motion $W$ can be generated as follows\n",
    "\n",
    "\\begin{align*}\n",
    "    W_0 &= \\mathbf{x}, \\\\\n",
    "    %\n",
    "    (\\forall n \\in \\{1, \\dotsc, N-1 \\}), \\quad W_n &= W_{n−1} + \\sqrt{\\delta} G_n, \\quad G_n \\sim \\mathcal{N}(\\mathbf{0}, \\mathbf{I}),\n",
    "\\end{align*}\n",
    "\n",
    "where $\\mathcal{N}(\\mathbf{0}, \\mathbf{I})$ is a Gaussian distribution with mean $\\mathbf{0}$ and identity covariance matrix.\n",
    "\n",
    "1. Define a random generator `rng`, set to a known state for reproducibility (see session 2)."
   ]
  },
  {
   "cell_type": "markdown",
   "metadata": {},
   "source": [
    "**Answer:**"
   ]
  },
  {
   "cell_type": "code",
   "execution_count": 2,
   "metadata": {},
   "outputs": [],
   "source": [
    "import random as rd\n",
    "import numpy as np\n",
    "\n",
    "rd.seed(42)\n",
    "\n",
    "from typing import Optional\n",
    "\n",
    "def rng(n: Optional[int]) -> np.ndarray:\n",
    "    return np.random.multivariate_normal(np.array([0,0]), np.identity(2), n)\n",
    "#If n=None, return a simple random 2D point\n",
    "#If n is an integer, return an array of n random 2D points"
   ]
  },
  {
   "cell_type": "markdown",
   "metadata": {},
   "source": [
    "2. Implement a function `brownian_motion(niter, x, step, rng)` which\n",
    "\n",
    "    - simulates $W$ until it reaches the boundary of $\\mathcal{B}(\\mathbf{0}, 1)$, using a maximum of $N$ iterations (`niter`), a starting point $\\mathbf{x} \\in \\mathcal{B}(\\mathbf{0}, 1)$ (`x`) and step-size $\\delta$ (`step`);\n",
    "    - interpolates linearly between the two last positions to determine the points $W^*$ where the trajectory crosses the boundary (if applicable);\n",
    "    - returns both the whole random walk $W$ and, if appropriate, the point at the intersection between the last segment of the trajectory and $\\mathcal{B}(\\mathbf{0}, 1)$.\n",
    " \n",
    "> Hint: \n",
    "> - you can easily derive a closed form expression for $W^*$, observing that $\\Vert W^* \\Vert^2= 1$ and $W^* \\in [W_{n-1}, W_n]$. \n",
    "> - you can also take a look at [`np.roots`](https://numpy.org/doc/stable/reference/generated/numpy.roots.html?highlight=roots#numpy.roots) if needed."
   ]
  },
  {
   "cell_type": "markdown",
   "metadata": {},
   "source": [
    "**Answer:**"
   ]
  },
  {
   "cell_type": "code",
   "execution_count": 41,
   "metadata": {},
   "outputs": [
    {
     "data": {
      "text/plain": [
       "[array([0.2, 0.4]),\n",
       " array([0.33924392, 0.39454593]),\n",
       " array([0.42484768, 0.42396968]),\n",
       " array([0.47304305, 0.35148503]),\n",
       " array([0.54237937, 0.43483332]),\n",
       " array([0.65061281, 0.29467568]),\n",
       " array([0.69642896, 0.10840797]),\n",
       " array([0.60214268, 0.11255076]),\n",
       " array([0.59533777, 0.18371825]),\n",
       " array([0.52444798, 0.22318096]),\n",
       " array([0.42136735, 0.25603653]),\n",
       " array([0.30102959, 0.35333008]),\n",
       " array([0.19911711, 0.49090913]),\n",
       " array([0.17215451, 0.50836298]),\n",
       " array([0.14679254, 0.22634535]),\n",
       " array([0.18827204, 0.07302721]),\n",
       " array([ 0.25175734, -0.00518348]),\n",
       " array([0.29067425, 0.01208743]),\n",
       " array([0.26592094, 0.0566095 ]),\n",
       " array([0.3801186 , 0.10393805]),\n",
       " array([0.32539427, 0.10257444]),\n",
       " array([0.26585433, 0.31144844]),\n",
       " array([0.26361306, 0.41926516]),\n",
       " array([0.12680501, 0.28912085]),\n",
       " array([0.18039924, 0.26866856]),\n",
       " array([0.16476457, 0.0867871 ]),\n",
       " array([0.20823766, 0.07943224]),\n",
       " array([0.25254424, 0.02397075]),\n",
       " array([0.26218586, 0.09637426]),\n",
       " array([0.14466042, 0.06181612]),\n",
       " array([0.08627814, 0.21578081]),\n",
       " array([0.0369286 , 0.19060048]),\n",
       " array([0.18101464, 0.24270315]),\n",
       " array([0.12851049, 0.32989035]),\n",
       " array([0.17274022, 0.29882474]),\n",
       " array([0.19714952, 0.41123049]),\n",
       " array([0.30009607, 0.2646838 ]),\n",
       " array([0.20087716, 0.26728861]),\n",
       " array([0.27111513, 0.11649922]),\n",
       " array([0.32497458, 0.12936655]),\n",
       " array([0.42636902, 0.20790617]),\n",
       " array([0.35208706, 0.36065342]),\n",
       " array([0.34464369, 0.13697955]),\n",
       " array([0.41299724, 0.28618556]),\n",
       " array([0.45686628, 0.36669102]),\n",
       " array([0.39808129, 0.37137699]),\n",
       " array([0.41381829, 0.5265396 ]),\n",
       " array([0.35367233, 0.64752644]),\n",
       " array([0.39512351, 0.57493112]),\n",
       " array([0.4822678 , 0.51935635]),\n",
       " array([0.4903681 , 0.49676773]),\n",
       " array([0.45309439, 0.39017506]),\n",
       " array([0.56075981, 0.48728343]),\n",
       " array([0.5146938 , 0.51680923]),\n",
       " array([0.53689266, 0.62298342]),\n",
       " array([0.57773607, 0.63625407]),\n",
       " array([0.46246908, 0.74881768]),\n",
       " array([0.50129616, 0.81933844]),\n",
       " array([0.52862189, 0.8488574 ])]"
      ]
     },
     "execution_count": 41,
     "metadata": {},
     "output_type": "execute_result"
    }
   ],
   "source": [
    "def norm(x):\n",
    "    return np.linalg.norm(x)\n",
    "\n",
    "def finding_intersection(x1, x2):\n",
    "    m=0.5*x1+0.5*x2\n",
    "    start=x1\n",
    "    end=x2\n",
    "    while np.abs((norm(m)-1))>1e-18:\n",
    "        if norm(m)>1:\n",
    "            end=m\n",
    "        else:\n",
    "            start=m\n",
    "        m=0.5*start+0.5*end\n",
    "    return m\n",
    "\n",
    "def linear_fct(x1, x2):\n",
    "    print(x2-x1)\n",
    "    a = (x2[1]-x1[1])/(x2[0]-x1[0])\n",
    "    b = x1[1]-a*x1[0]\n",
    "    print(a,b)\n",
    "    return np.array([a, b])\n",
    "\n",
    "def intersect_circle(lin):\n",
    "    slope, origin = lin\n",
    "    print(slope, origin)\n",
    "    a, b, c = slope**2-1, 2*slope*origin, origin**2-1\n",
    "    print(a,b,c)\n",
    "    return np.array([a,b,c])\n",
    "\n",
    "def approx(x1, x2):\n",
    "    x= x2[0]-x1[0]\n",
    "    y= x2[1]-x1[1]\n",
    "    a=x**2+y**2\n",
    "    b=-2*y**2\n",
    "    c=y**2\n",
    "    return np.roots([a,b,c])\n",
    "\n",
    "def brownian_motion(niter,x,step,rng) -> np.ndarray:\n",
    "    \"\"\" Simulate a Brownian motion with niter steps, starting from x,\n",
    "        with increments of size step, using the random number generator rng.\n",
    "    \"\"\"\n",
    "    X=x\n",
    "    traj=[X]\n",
    "    iter=0\n",
    "    while (iter<niter and norm(X)<1):\n",
    "        X=X+np.sqrt(step)*rng(None)\n",
    "        traj.append(X)\n",
    "        iter+=1\n",
    "    if iter<niter:\n",
    "        wstar = finding_intersection(traj[-2], traj[-1])\n",
    "        traj[-1]=wstar\n",
    "    else:\n",
    "        wstar=None\n",
    "    # x_star = np.roots(intersect_circle(linear_fct(traj[-2], traj[-1])))\n",
    "    # y_star = np.sqrt(1 - x_star[0]**2)\n",
    "    return traj\n",
    "\n",
    "brownian_motion(1000, np.array([0.2, 0.4]), 0.01, rng)\n"
   ]
  },
  {
   "cell_type": "code",
   "execution_count": 4,
   "metadata": {},
   "outputs": [
    {
     "data": {
      "text/plain": [
       "1.0045103299758322"
      ]
     },
     "execution_count": 4,
     "metadata": {},
     "output_type": "execute_result"
    }
   ],
   "source": [
    "np.linalg.norm(np.array([0.48688796, 0.87862456]))"
   ]
  },
  {
   "cell_type": "markdown",
   "metadata": {},
   "source": [
    "3. Diplay the trajectory of a Brownian motion starting from $\\mathbf{x} = (0.2, 0.4)$, using $\\delta = 10^{-2}$, $N = 1000$. Display the unit circle on the same figure, and highlight the intersection with the boundary of the domain (whenever it exists).\n",
    "\n",
    "> Hint: to draw the unit disk, you can use for instance:\n",
    "> ```python\n",
    "> circle = plt.Circle((0,0), 1)\n",
    "> fig, ax = plt.subplots()\n",
    "> plt.xlim(-1.25,1.25)\n",
    "> plt.ylim(-1.25,1.25)\n",
    "> plt.grid(linestyle = \"--\", zorder = 1)\n",
    "> ax.set_aspect(1)\n",
    "> ax.add_artist(circle)\n",
    "> ```"
   ]
  },
  {
   "cell_type": "markdown",
   "metadata": {},
   "source": [
    "**Answer:**"
   ]
  },
  {
   "cell_type": "code",
   "execution_count": 5,
   "metadata": {},
   "outputs": [],
   "source": [
    "# your code"
   ]
  },
  {
   "cell_type": "markdown",
   "metadata": {},
   "source": [
    "4. Represent, on the same figure, 4 other trajectories of $W$ with the same parameters."
   ]
  },
  {
   "cell_type": "markdown",
   "metadata": {},
   "source": [
    "**Answer:**"
   ]
  },
  {
   "cell_type": "code",
   "execution_count": 6,
   "metadata": {},
   "outputs": [],
   "source": [
    "# your code"
   ]
  },
  {
   "cell_type": "markdown",
   "metadata": {},
   "source": [
    "5. [Bonus] Generalize the procedure to a $M$-dimensional Brownian motion, $M > 2$."
   ]
  },
  {
   "cell_type": "markdown",
   "metadata": {},
   "source": [
    "**Answer:**"
   ]
  },
  {
   "cell_type": "code",
   "execution_count": 7,
   "metadata": {},
   "outputs": [],
   "source": [
    "# your code"
   ]
  },
  {
   "cell_type": "markdown",
   "metadata": {},
   "source": [
    "---\n",
    "## <a name=\"ex2\">Exercise 2: 2D Fourier transform, ideal low-pass filter and linear convolution</a>\n",
    "\n",
    "In this exercise, we explore the use of the 2-dimensional Fourier transform to filter an image, and convolve it with a blurring kernel.\n",
    "\n",
    "1\\. Load and display one of the images contained in the `img/` folder. The image will be denoted by $\\mathbf{X} \\in \\mathbb{R}^{M_1 \\times N_1}$ in the rest of this exercise."
   ]
  },
  {
   "cell_type": "markdown",
   "metadata": {},
   "source": [
    "**Answer:**"
   ]
  },
  {
   "cell_type": "code",
   "execution_count": 8,
   "metadata": {},
   "outputs": [],
   "source": [
    "# your code"
   ]
  },
  {
   "cell_type": "markdown",
   "metadata": {},
   "source": [
    "2\\. Let $\\mathcal{F}$ denote the 2D discrete Fourier transform. Compute $|\\mathcal{F}(\\mathbf{X})|^2$, the spectrum of the image $\\mathbf{X} \\in \\mathbb{R}^{M_1 \\times N_1}$ (i.e., the term-wise squared absolute value of its Fourier transform) loaded in 1. Display the result in logarithmic scale.\n",
    "\n",
    "a) In this representation, where is the pixel of the spectrum associated with the null frequency located?\n",
    "    \n",
    "b) Take a look at the documentation of `np.fft.fftshift`. Use it to ensure that the null frequency is located at the center of the image. "
   ]
  },
  {
   "cell_type": "markdown",
   "metadata": {},
   "source": [
    "**Answer:**"
   ]
  },
  {
   "cell_type": "code",
   "execution_count": 9,
   "metadata": {},
   "outputs": [],
   "source": [
    "# your code"
   ]
  },
  {
   "cell_type": "markdown",
   "metadata": {},
   "source": [
    "3\\. \n",
    "    a) Create a function `ideal_lowpass_filter` to filter $\\mathbf{X}$ by an ideal low-pass filter. The filter preserves Fourier coefficients associated to frequencies below a cutoff specified in each direction ($\\mathbf{f}_c = (f_{c,y}, f_{c,x})$), and sets others to zero. For simplicity, $f_{c,y}$ and $f_{c,x}$ can be expressed as a number of samples to be kept along each dimension (e.g., $\\mathbf{f}_c = (50,50)$).\n",
    "\n",
    "b) Display the filtered image for 2 different values of $\\mathbf{f}_c$. What do you observe as the cutoff frequencies increase?\n",
    "    \n",
    "> Warning: beware the type of the array after `np.fft.fft2`, do not hesitate to specify the type if you make copies from this array\n",
    "> ```python\n",
    "> a = np.zeros((2,2), dtype=np.complex)\n",
    "> ...\n",
    "> ```"
   ]
  },
  {
   "cell_type": "markdown",
   "metadata": {},
   "source": [
    "**Answer:**"
   ]
  },
  {
   "cell_type": "code",
   "execution_count": 10,
   "metadata": {},
   "outputs": [],
   "source": [
    "# your code"
   ]
  },
  {
   "cell_type": "markdown",
   "metadata": {},
   "source": [
    "4\\. Let $\\mathbf{H} \\in \\mathbb{R}^{M_2\\times N_2}$ be a 2-D Gaussian kernel, obtained as the outer product of two 1-D Gaussian windows $\\mathbf{w}_y \\in \\mathbb{R}^{M_2}$ and $\\mathbf{w}_x \\in \\mathbb{R}^{N_2}$, of standard deviation $\\sigma_y = 10$ and $\\sigma_x = 10$, respectively:\n",
    "\n",
    "\\begin{equation}\n",
    "    \\mathbf{H} = \\mathbf{w}_y \\mathbf{w}_x^T.\n",
    "\\end{equation}\n",
    "\n",
    "Let $M = M_1+M_2-1$ and $N =  N_1+N_2-1$. From the discrete convolution theorem, the linear convolution between $\\mathbf{H}$ and $\\mathbf{X}$ can be computed as follows\n",
    "\n",
    "\\begin{equation}\n",
    "    \\mathbf{X} \\star \\mathbf{H} = \\mathcal{F}^{-1} \\Big( \\mathcal{F}\\big(P_1(\\mathbf{X})\\big) \\odot \\mathcal{F}\\big(P_2(\\mathbf{H})\\big) \\Big) \\in \\mathbb{R}^{M\\times N},\n",
    "\\end{equation}\n",
    "\n",
    "where $P_i: \\mathbb{R}^{M_i \\times N_i} \\rightarrow \\mathbb{R}^{M \\times N}$, $i \\in \\{1, 2\\}$, are 0-padding operators, $\\odot$ is the Hadamard (= term-wise) product, $\\mathcal{F}^{-1}$ is the 2D discrete inverse Fourier transform.\n",
    "\n",
    "Compute and display $\\mathbf{X} \\star \\mathbf{H}$, for $M_2 = N_2 = 10$. What do you observe?\n",
    "\n",
    "> Hint: \n",
    "> - the usual 0-padding procedure in image space consists in appending trailing zeros. For instance (in 1D), 0-padding a vector $\\mathbf{x} \\in \\mathbb{R}^N_1$ to the size $N>N_1$ corresponds to creating the vector\n",
    "\\begin{bmatrix}\n",
    "\\mathbf{x} \\\\\n",
    "\\mathbf{0}_{N-N_1}\n",
    "\\end{bmatrix}\n",
    "> - since the input images are real, $\\mathcal{F}(\\mathbf{x})$ and $\\mathcal{F}(\\mathbf{h})$ are Hermitian symmetric. In this case, a more efficient version of `np.fft.fft2` can be used, computing only quarter of the Fourier coefficients (half of the Fourier coefficients in each direction): [`np.fft.rfft2`](https://numpy.org/doc/stable/reference/generated/numpy.fft.rfft2.html?highlight=rfft#numpy.fft.rfft2). Its inverse, [`np.fft.irfft2`](https://numpy.org/doc/stable/reference/generated/numpy.fft.irfft2.html#numpy.fft.irfft2), also ensures that the output is real;\n",
    "> - the 2D Gaussian window can be generated as the outer product of two 1D Gaussian windows (one window for each dimension);\n",
    "> - you can take a look at [scipy.signal.windows.gaussian](https://docs.scipy.org/doc/scipy/reference/generated/scipy.signal.windows.gaussian.html#scipy.signal.windows.gaussian) and [np.newaxis](https://numpy.org/doc/stable/reference/constants.html?highlight=newaxis#numpy.newaxis)."
   ]
  },
  {
   "cell_type": "markdown",
   "metadata": {},
   "source": [
    "**Answer:**"
   ]
  },
  {
   "cell_type": "code",
   "execution_count": 11,
   "metadata": {},
   "outputs": [],
   "source": [
    "# your code"
   ]
  }
 ],
 "metadata": {
  "kernelspec": {
   "display_name": "Example",
   "language": "python",
   "name": "example"
  },
  "language_info": {
   "codemirror_mode": {
    "name": "ipython",
    "version": 3
   },
   "file_extension": ".py",
   "mimetype": "text/x-python",
   "name": "python",
   "nbconvert_exporter": "python",
   "pygments_lexer": "ipython3",
   "version": "3.9.16"
  },
  "vscode": {
   "interpreter": {
    "hash": "916dbcbb3f70747c44a77c7bcd40155683ae19c65e1c03b4aa3499c5328201f1"
   }
  }
 },
 "nbformat": 4,
 "nbformat_minor": 4
}
